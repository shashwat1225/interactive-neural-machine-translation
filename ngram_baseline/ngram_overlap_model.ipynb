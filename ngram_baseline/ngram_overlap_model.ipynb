{
 "cells": [
  {
   "cell_type": "code",
   "execution_count": 1,
   "id": "75b44808",
   "metadata": {},
   "outputs": [],
   "source": [
    "# import torch\n",
    "# import pandas as pd\n",
    "# import numpy as np\n",
    "import time\n",
    "import nltk\n",
    "# from nltk.translate import bleu_score\n",
    "from tqdm import tqdm\n",
    "# from collections import Counter"
   ]
  },
  {
   "cell_type": "code",
   "execution_count": 2,
   "id": "0557ff6b",
   "metadata": {},
   "outputs": [],
   "source": [
    "from nltk.translate.bleu_score import corpus_bleu"
   ]
  },
  {
   "cell_type": "code",
   "execution_count": 3,
   "id": "694cb6a3",
   "metadata": {},
   "outputs": [],
   "source": [
    "from nltk import ngrams"
   ]
  },
  {
   "cell_type": "code",
   "execution_count": 5,
   "id": "52bcd2fc",
   "metadata": {},
   "outputs": [],
   "source": [
    "# load the dataset\n",
    "train_source_text_path = \"./data/sup_train.en-fr.fr\"\n",
    "train_target_text_path = \"./data/sup_train.en-fr.en\"\n",
    "dev_source_text_path = \"./data/sup_valid.en-fr.fr\"\n",
    "dev_target_text_path = \"./data/sup_valid.en-fr.en\""
   ]
  },
  {
   "cell_type": "code",
   "execution_count": 9,
   "id": "a0bdeb64",
   "metadata": {},
   "outputs": [],
   "source": [
    "# read the data from the files and store them in pandas dataframe\n",
    "def retrieve_data(file_path):\n",
    "    data = []\n",
    "    with open(file_path, 'r') as f:\n",
    "        for line in f.readlines():\n",
    "            line = line.strip()\n",
    "            data.append(line)\n",
    "    return data"
   ]
  },
  {
   "cell_type": "code",
   "execution_count": 10,
   "id": "0b977d16",
   "metadata": {},
   "outputs": [],
   "source": [
    "train_source_sentences = retrieve_data(train_source_text_path)\n",
    "train_target_sentences = retrieve_data(train_target_text_path)"
   ]
  },
  {
   "cell_type": "code",
   "execution_count": 11,
   "id": "b46e8923",
   "metadata": {},
   "outputs": [],
   "source": [
    "train_source_sentences = train_source_sentences[:len(train_source_sentences)//2]\n",
    "train_target_sentences = train_target_sentences[:len(train_target_sentences)//2]"
   ]
  },
  {
   "cell_type": "code",
   "execution_count": 15,
   "id": "b61047e4",
   "metadata": {},
   "outputs": [],
   "source": [
    "valid_source_sentences = retrieve_data(dev_source_text_path)\n",
    "valid_target_sentences = retrieve_data(dev_target_text_path)\n",
    "test_source_text_path = \"./data/test.en-fr.fr\"\n",
    "test_source_sentences = retrieve_data(test_source_text_path)"
   ]
  },
  {
   "cell_type": "code",
   "execution_count": 12,
   "id": "bdf35464",
   "metadata": {},
   "outputs": [],
   "source": [
    "# compute n-grams for each source sentence in the dictionary\n",
    "n_grams_dict = {}\n",
    "def create_src_ngrams(n):\n",
    "    for sent in train_source_sentences:\n",
    "        n_grams_dict[sent] = list(ngrams(sent.split(), n))"
   ]
  },
  {
   "cell_type": "code",
   "execution_count": 13,
   "id": "910f8820",
   "metadata": {},
   "outputs": [],
   "source": [
    "n = 3\n",
    "create_src_ngrams(n)"
   ]
  },
  {
   "cell_type": "code",
   "execution_count": 16,
   "id": "54f0045e",
   "metadata": {},
   "outputs": [],
   "source": [
    "def compute_ngram_overlap(input_sentence, n):\n",
    "    max_overlap_count = float('-inf')\n",
    "    best_translation_sent = \"\"\n",
    "    \n",
    "    input_sent_n_grams = list(ngrams(input_sentence.split(), n))\n",
    "    for index, sent in enumerate(train_source_sentences):\n",
    "        src_n_grams = n_grams_dict[sent]\n",
    "        matches = len(set(src_n_grams).intersection(input_sent_n_grams))\n",
    "        if matches > max_overlap_count:\n",
    "            max_overlap_count = matches\n",
    "            best_translation_sent = train_target_sentences[index]\n",
    "    return max_overlap_count, best_translation_sent"
   ]
  },
  {
   "cell_type": "code",
   "execution_count": 26,
   "id": "18cf9692",
   "metadata": {},
   "outputs": [
    {
     "data": {
      "text/plain": [
       "(5,\n",
       " 'mr president , what the investigations into this incident show is what can best be described as a culture of management incompetence and one of complacency .')"
      ]
     },
     "execution_count": 26,
     "metadata": {},
     "output_type": "execute_result"
    }
   ],
   "source": [
    "compute_ngram_overlap(valid_source_sentences[0], n=3)"
   ]
  },
  {
   "cell_type": "code",
   "execution_count": 18,
   "id": "3637d962",
   "metadata": {},
   "outputs": [
    {
     "name": "stderr",
     "output_type": "stream",
     "text": [
      "100%|███████████████████████████████████████████████████████████████████████████████████████████████████████████████████████████████████████████████████████████████████████| 2000/2000 [1:39:54<00:00,  3.00s/it]"
     ]
    },
    {
     "name": "stdout",
     "output_type": "stream",
     "text": [
      "Average max n-gram overlap: 5.313\n"
     ]
    },
    {
     "name": "stderr",
     "output_type": "stream",
     "text": [
      "\n"
     ]
    }
   ],
   "source": [
    "all_predictions = []\n",
    "all_targets = []\n",
    "total_overlap = 0\n",
    "total_examples = 0\n",
    "for index, source_sent in tqdm(enumerate(valid_source_sentences), total=len(valid_source_sentences)):\n",
    "    max_overlap_count, translation_sent = compute_ngram_overlap(source_sent, n=3)\n",
    "    all_predictions.append(translation_sent)\n",
    "    all_targets.append(valid_target_sentences[index])\n",
    "    total_overlap += max_overlap_count\n",
    "    total_examples += 1\n",
    "\n",
    "average_overlap = total_overlap / total_examples\n",
    "print(f\"Average max n-gram overlap: {average_overlap}\")"
   ]
  },
  {
   "cell_type": "code",
   "execution_count": 19,
   "id": "b96d52fc",
   "metadata": {},
   "outputs": [
    {
     "name": "stdout",
     "output_type": "stream",
     "text": [
      "Dev BLEU score:  0.06693695858184534\n"
     ]
    }
   ],
   "source": [
    "references = [[target_sent.split()] for target_sent in all_targets]\n",
    "candidates = [pred_sent.split() for pred_sent in all_predictions]\n",
    "dev_bleu = corpus_bleu(references, candidates)\n",
    "print('Dev BLEU score: ', dev_bleu)"
   ]
  }
 ],
 "metadata": {
  "kernelspec": {
   "display_name": "Python 3 (ipykernel)",
   "language": "python",
   "name": "python3"
  },
  "language_info": {
   "codemirror_mode": {
    "name": "ipython",
    "version": 3
   },
   "file_extension": ".py",
   "mimetype": "text/x-python",
   "name": "python",
   "nbconvert_exporter": "python",
   "pygments_lexer": "ipython3",
   "version": "3.9.12"
  }
 },
 "nbformat": 4,
 "nbformat_minor": 5
}
