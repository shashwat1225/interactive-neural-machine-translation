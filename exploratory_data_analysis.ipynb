{
 "cells": [
  {
   "cell_type": "code",
   "execution_count": 1,
   "id": "fa88d9f1",
   "metadata": {},
   "outputs": [],
   "source": [
    "import torch\n",
    "import pandas as pd\n",
    "import numpy as np\n",
    "import matplotlib.pyplot as plt\n",
    "import seaborn as sns\n",
    "import time\n",
    "from tqdm import tqdm\n",
    "from collections import Counter"
   ]
  },
  {
   "cell_type": "code",
   "execution_count": 2,
   "id": "3d43c1f0",
   "metadata": {},
   "outputs": [],
   "source": [
    "import nltk\n",
    "from wordcloud import WordCloud"
   ]
  },
  {
   "cell_type": "code",
   "execution_count": 3,
   "id": "24a60005",
   "metadata": {},
   "outputs": [],
   "source": [
    "# load the dataset\n",
    "train_source_text_path = \"../data/sup_train.en-fr.fr\"\n",
    "train_target_text_path = \"../data/sup_train.en-fr.en\"\n",
    "dev_source_text_path = \"../data/sup_valid.en-fr.fr\"\n",
    "dev_target_text_path = \"../data/sup_valid.en-fr.en\"\n",
    "test_source_text_path = \"../data/test.en-fr.fr\"\n",
    "test_target_text_path = \"../data/test.en-fr.en\""
   ]
  },
  {
   "cell_type": "code",
   "execution_count": 4,
   "id": "3d7d8019",
   "metadata": {},
   "outputs": [],
   "source": [
    "# read the data from the files and store them in pandas dataframe\n",
    "def retrieve_data(file_path):\n",
    "    data = []\n",
    "    with open(file_path, 'r') as f:\n",
    "        for line in f.readlines():\n",
    "            line = line.strip()\n",
    "            data.append(line)\n",
    "    return data"
   ]
  },
  {
   "cell_type": "code",
   "execution_count": 5,
   "id": "eececde6",
   "metadata": {},
   "outputs": [],
   "source": [
    "train_source_sentences = retrieve_data(train_source_text_path)\n",
    "train_target_sentences = retrieve_data(train_target_text_path)"
   ]
  },
  {
   "cell_type": "code",
   "execution_count": 6,
   "id": "82f472bd",
   "metadata": {},
   "outputs": [],
   "source": [
    "train_source_sentences = train_source_sentences[:len(train_source_sentences)//2]\n",
    "train_target_sentences = train_target_sentences[:len(train_target_sentences)//2]"
   ]
  },
  {
   "cell_type": "code",
   "execution_count": 7,
   "id": "cfed90e5",
   "metadata": {},
   "outputs": [
    {
     "data": {
      "text/plain": [
       "(783196, 783196)"
      ]
     },
     "execution_count": 7,
     "metadata": {},
     "output_type": "execute_result"
    }
   ],
   "source": [
    "len(train_source_sentences), len(train_target_sentences)"
   ]
  },
  {
   "cell_type": "code",
   "execution_count": 7,
   "id": "6534900d",
   "metadata": {},
   "outputs": [],
   "source": [
    "zipped_train_data = list(zip(train_source_sentences, train_target_sentences))"
   ]
  },
  {
   "cell_type": "code",
   "execution_count": 8,
   "id": "e0e39de0",
   "metadata": {},
   "outputs": [],
   "source": [
    "train_data = pd.DataFrame(zipped_train_data, columns=['source', 'target'])"
   ]
  },
  {
   "cell_type": "code",
   "execution_count": 9,
   "id": "7342a07e",
   "metadata": {},
   "outputs": [
    {
     "data": {
      "text/html": [
       "<div>\n",
       "<style scoped>\n",
       "    .dataframe tbody tr th:only-of-type {\n",
       "        vertical-align: middle;\n",
       "    }\n",
       "\n",
       "    .dataframe tbody tr th {\n",
       "        vertical-align: top;\n",
       "    }\n",
       "\n",
       "    .dataframe thead th {\n",
       "        text-align: right;\n",
       "    }\n",
       "</style>\n",
       "<table border=\"1\" class=\"dataframe\">\n",
       "  <thead>\n",
       "    <tr style=\"text-align: right;\">\n",
       "      <th></th>\n",
       "      <th>source</th>\n",
       "      <th>target</th>\n",
       "    </tr>\n",
       "  </thead>\n",
       "  <tbody>\n",
       "    <tr>\n",
       "      <th>0</th>\n",
       "      <td>reprise de la session</td>\n",
       "      <td>resumption of the session</td>\n",
       "    </tr>\n",
       "    <tr>\n",
       "      <th>1</th>\n",
       "      <td>je déclare reprise la session du parlement eur...</td>\n",
       "      <td>i declare resumed the session of the european ...</td>\n",
       "    </tr>\n",
       "    <tr>\n",
       "      <th>2</th>\n",
       "      <td>comme vous avez pu le constater , le grand \" b...</td>\n",
       "      <td>although , as you will have seen , the dreaded...</td>\n",
       "    </tr>\n",
       "    <tr>\n",
       "      <th>3</th>\n",
       "      <td>vous avez souhaité un débat à ce sujet dans le...</td>\n",
       "      <td>you have requested a debate on this subject in...</td>\n",
       "    </tr>\n",
       "    <tr>\n",
       "      <th>4</th>\n",
       "      <td>en attendant , je souhaiterais , comme un cert...</td>\n",
       "      <td>in the meantime , i should like to observe a m...</td>\n",
       "    </tr>\n",
       "  </tbody>\n",
       "</table>\n",
       "</div>"
      ],
      "text/plain": [
       "                                              source  \\\n",
       "0                              reprise de la session   \n",
       "1  je déclare reprise la session du parlement eur...   \n",
       "2  comme vous avez pu le constater , le grand \" b...   \n",
       "3  vous avez souhaité un débat à ce sujet dans le...   \n",
       "4  en attendant , je souhaiterais , comme un cert...   \n",
       "\n",
       "                                              target  \n",
       "0                          resumption of the session  \n",
       "1  i declare resumed the session of the european ...  \n",
       "2  although , as you will have seen , the dreaded...  \n",
       "3  you have requested a debate on this subject in...  \n",
       "4  in the meantime , i should like to observe a m...  "
      ]
     },
     "execution_count": 9,
     "metadata": {},
     "output_type": "execute_result"
    }
   ],
   "source": [
    "train_data.head()"
   ]
  },
  {
   "cell_type": "code",
   "execution_count": 10,
   "id": "f33c395f",
   "metadata": {},
   "outputs": [
    {
     "data": {
      "text/html": [
       "<div>\n",
       "<style scoped>\n",
       "    .dataframe tbody tr th:only-of-type {\n",
       "        vertical-align: middle;\n",
       "    }\n",
       "\n",
       "    .dataframe tbody tr th {\n",
       "        vertical-align: top;\n",
       "    }\n",
       "\n",
       "    .dataframe thead th {\n",
       "        text-align: right;\n",
       "    }\n",
       "</style>\n",
       "<table border=\"1\" class=\"dataframe\">\n",
       "  <thead>\n",
       "    <tr style=\"text-align: right;\">\n",
       "      <th></th>\n",
       "      <th>source</th>\n",
       "      <th>target</th>\n",
       "      <th>src_length</th>\n",
       "    </tr>\n",
       "  </thead>\n",
       "  <tbody>\n",
       "    <tr>\n",
       "      <th>0</th>\n",
       "      <td>reprise de la session</td>\n",
       "      <td>resumption of the session</td>\n",
       "      <td>21</td>\n",
       "    </tr>\n",
       "    <tr>\n",
       "      <th>1</th>\n",
       "      <td>je déclare reprise la session du parlement eur...</td>\n",
       "      <td>i declare resumed the session of the european ...</td>\n",
       "      <td>197</td>\n",
       "    </tr>\n",
       "    <tr>\n",
       "      <th>2</th>\n",
       "      <td>comme vous avez pu le constater , le grand \" b...</td>\n",
       "      <td>although , as you will have seen , the dreaded...</td>\n",
       "      <td>227</td>\n",
       "    </tr>\n",
       "    <tr>\n",
       "      <th>3</th>\n",
       "      <td>vous avez souhaité un débat à ce sujet dans le...</td>\n",
       "      <td>you have requested a debate on this subject in...</td>\n",
       "      <td>104</td>\n",
       "    </tr>\n",
       "    <tr>\n",
       "      <th>4</th>\n",
       "      <td>en attendant , je souhaiterais , comme un cert...</td>\n",
       "      <td>in the meantime , i should like to observe a m...</td>\n",
       "      <td>253</td>\n",
       "    </tr>\n",
       "  </tbody>\n",
       "</table>\n",
       "</div>"
      ],
      "text/plain": [
       "                                              source  \\\n",
       "0                              reprise de la session   \n",
       "1  je déclare reprise la session du parlement eur...   \n",
       "2  comme vous avez pu le constater , le grand \" b...   \n",
       "3  vous avez souhaité un débat à ce sujet dans le...   \n",
       "4  en attendant , je souhaiterais , comme un cert...   \n",
       "\n",
       "                                              target  src_length  \n",
       "0                          resumption of the session          21  \n",
       "1  i declare resumed the session of the european ...         197  \n",
       "2  although , as you will have seen , the dreaded...         227  \n",
       "3  you have requested a debate on this subject in...         104  \n",
       "4  in the meantime , i should like to observe a m...         253  "
      ]
     },
     "execution_count": 10,
     "metadata": {},
     "output_type": "execute_result"
    }
   ],
   "source": [
    "train_data['src_length'] = train_data['source'].map(lambda text: len(text))\n",
    "train_data.head()"
   ]
  },
  {
   "cell_type": "code",
   "execution_count": 11,
   "id": "519237c1",
   "metadata": {},
   "outputs": [
    {
     "data": {
      "text/html": [
       "<div>\n",
       "<style scoped>\n",
       "    .dataframe tbody tr th:only-of-type {\n",
       "        vertical-align: middle;\n",
       "    }\n",
       "\n",
       "    .dataframe tbody tr th {\n",
       "        vertical-align: top;\n",
       "    }\n",
       "\n",
       "    .dataframe thead th {\n",
       "        text-align: right;\n",
       "    }\n",
       "</style>\n",
       "<table border=\"1\" class=\"dataframe\">\n",
       "  <thead>\n",
       "    <tr style=\"text-align: right;\">\n",
       "      <th></th>\n",
       "      <th>source</th>\n",
       "      <th>target</th>\n",
       "      <th>src_length</th>\n",
       "      <th>target_length</th>\n",
       "    </tr>\n",
       "  </thead>\n",
       "  <tbody>\n",
       "    <tr>\n",
       "      <th>0</th>\n",
       "      <td>reprise de la session</td>\n",
       "      <td>resumption of the session</td>\n",
       "      <td>21</td>\n",
       "      <td>25</td>\n",
       "    </tr>\n",
       "    <tr>\n",
       "      <th>1</th>\n",
       "      <td>je déclare reprise la session du parlement eur...</td>\n",
       "      <td>i declare resumed the session of the european ...</td>\n",
       "      <td>197</td>\n",
       "      <td>209</td>\n",
       "    </tr>\n",
       "    <tr>\n",
       "      <th>2</th>\n",
       "      <td>comme vous avez pu le constater , le grand \" b...</td>\n",
       "      <td>although , as you will have seen , the dreaded...</td>\n",
       "      <td>227</td>\n",
       "      <td>197</td>\n",
       "    </tr>\n",
       "    <tr>\n",
       "      <th>3</th>\n",
       "      <td>vous avez souhaité un débat à ce sujet dans le...</td>\n",
       "      <td>you have requested a debate on this subject in...</td>\n",
       "      <td>104</td>\n",
       "      <td>107</td>\n",
       "    </tr>\n",
       "    <tr>\n",
       "      <th>4</th>\n",
       "      <td>en attendant , je souhaiterais , comme un cert...</td>\n",
       "      <td>in the meantime , i should like to observe a m...</td>\n",
       "      <td>253</td>\n",
       "      <td>239</td>\n",
       "    </tr>\n",
       "  </tbody>\n",
       "</table>\n",
       "</div>"
      ],
      "text/plain": [
       "                                              source  \\\n",
       "0                              reprise de la session   \n",
       "1  je déclare reprise la session du parlement eur...   \n",
       "2  comme vous avez pu le constater , le grand \" b...   \n",
       "3  vous avez souhaité un débat à ce sujet dans le...   \n",
       "4  en attendant , je souhaiterais , comme un cert...   \n",
       "\n",
       "                                              target  src_length  \\\n",
       "0                          resumption of the session          21   \n",
       "1  i declare resumed the session of the european ...         197   \n",
       "2  although , as you will have seen , the dreaded...         227   \n",
       "3  you have requested a debate on this subject in...         104   \n",
       "4  in the meantime , i should like to observe a m...         253   \n",
       "\n",
       "   target_length  \n",
       "0             25  \n",
       "1            209  \n",
       "2            197  \n",
       "3            107  \n",
       "4            239  "
      ]
     },
     "execution_count": 11,
     "metadata": {},
     "output_type": "execute_result"
    }
   ],
   "source": [
    "train_data['target_length'] = train_data['target'].map(lambda text: len(text))\n",
    "train_data.head()"
   ]
  },
  {
   "cell_type": "code",
   "execution_count": 13,
   "id": "f6e91127",
   "metadata": {},
   "outputs": [
    {
     "name": "stdout",
     "output_type": "stream",
     "text": [
      "The average length of a source sentence is: 176.18480942190715\n",
      "The average length of a target sentence is: 156.829088759391\n"
     ]
    },
    {
     "data": {
      "image/png": "[encoded data removed]",
      "text/plain": [
       "<Figure size 640x480 with 1 Axes>"
      ]
     },
     "metadata": {},
     "output_type": "display_data"
    }
   ],
   "source": [
    "src_text_length = train_data.src_length.values\n",
    "src_mean_length = np.mean(src_text_length)\n",
    "print (\"The average length of a source sentence is: %s\" % (src_mean_length))\n",
    "\n",
    "target_text_length = train_data.target_length.values\n",
    "target_mean_length = np.mean(target_text_length)\n",
    "print (\"The average length of a target sentence is: %s\" % (target_mean_length))\n",
    "\n",
    "mean_lens = [src_mean_length, target_mean_length]\n",
    "# create a dataset\n",
    "bars = ('source (French)', 'target (English)')\n",
    "x_pos = np.arange(len(bars))\n",
    "\n",
    "# Create bars with different colors\n",
    "plt.bar(x_pos, mean_lens, color=['green', 'blue'])\n",
    "\n",
    "# Create names on the x-axis\n",
    "plt.xticks(x_pos, bars)\n",
    "\n",
    "# plt.xlabel('x% of words as partial translation')\n",
    "plt.ylabel('Average sentence length')\n",
    "plt.title(\"Comparison of average length of source (French) and target (English) training sentence\")\n",
    "\n",
    "# Show graph\n",
    "plt.show()"
   ]
  },
  {
   "cell_type": "code",
   "execution_count": 40,
   "id": "9bb9a33c",
   "metadata": {},
   "outputs": [],
   "source": [
    "# Tokenize the corpus\n",
    "train_data['source_tokenized'] = train_data['source'].apply(nltk.word_tokenize)"
   ]
  },
  {
   "cell_type": "code",
   "execution_count": 45,
   "id": "5d0398d1",
   "metadata": {},
   "outputs": [
    {
     "data": {
      "text/plain": [
       "0                           [reprise, de, la, session]\n",
       "1    [je, déclare, reprise, la, session, du, parlem...\n",
       "2    [comme, vous, avez, pu, le, constater, ,, le, ...\n",
       "3    [vous, avez, souhaité, un, débat, à, ce, sujet...\n",
       "4    [en, attendant, ,, je, souhaiterais, ,, comme,...\n",
       "Name: source_tokenized, dtype: object"
      ]
     },
     "execution_count": 45,
     "metadata": {},
     "output_type": "execute_result"
    }
   ],
   "source": [
    "train_data['source_tokenized'].head()"
   ]
  },
  {
   "cell_type": "code",
   "execution_count": 12,
   "id": "43cd8641",
   "metadata": {},
   "outputs": [],
   "source": [
    "# Count the frequency of each token\n",
    "fdist = nltk.FreqDist()\n",
    "\n",
    "for sent in train_data['source']:\n",
    "    for word in nltk.word_tokenize(sent):\n",
    "        fdist[word.lower()] += 1"
   ]
  },
  {
   "cell_type": "code",
   "execution_count": 27,
   "id": "3e731146",
   "metadata": {},
   "outputs": [
    {
     "data": {
      "image/png": "[encoded data removed]",
      "text/plain": [
       "<Figure size 640x480 with 1 Axes>"
      ]
     },
     "metadata": {},
     "output_type": "display_data"
    },
    {
     "data": {
      "text/plain": [
       "<AxesSubplot:xlabel='Samples', ylabel='Counts'>"
      ]
     },
     "execution_count": 27,
     "metadata": {},
     "output_type": "execute_result"
    }
   ],
   "source": [
    "fdist.plot(20, c='#6b8e99')"
   ]
  },
  {
   "cell_type": "code",
   "execution_count": 14,
   "id": "d6d5dd6a",
   "metadata": {},
   "outputs": [],
   "source": [
    "last_twenty = dict(fdist.most_common()[-20:])"
   ]
  },
  {
   "cell_type": "code",
   "execution_count": 15,
   "id": "496b02a5",
   "metadata": {},
   "outputs": [
    {
     "data": {
      "text/plain": [
       "{'inter-universités': 1,\n",
       " 'levitine': 1,\n",
       " 'khordorkovsky': 1,\n",
       " 'woody': 1,\n",
       " 'judoka': 1,\n",
       " 'foute': 1,\n",
       " 'antirusse': 1,\n",
       " 'instaurerons': 1,\n",
       " 'nazarbayev': 1,\n",
       " 'ues': 1,\n",
       " 'fripouille': 1,\n",
       " 'approvisionnée': 1,\n",
       " 'tokaji': 1,\n",
       " 'bolchevique-communiste': 1,\n",
       " 'hertzen': 1,\n",
       " 'bukovski': 1,\n",
       " 'mésentente': 1,\n",
       " 'théodose': 1,\n",
       " 'dissidences': 1,\n",
       " 'modernisatrices': 1}"
      ]
     },
     "execution_count": 15,
     "metadata": {},
     "output_type": "execute_result"
    }
   ],
   "source": [
    "fdist.most_common()[-20:].plot()"
   ]
  },
  {
   "cell_type": "code",
   "execution_count": 16,
   "id": "a12ecb8e",
   "metadata": {},
   "outputs": [],
   "source": [
    "# Count the frequency of each token\n",
    "fdist_target = nltk.FreqDist()\n",
    "\n",
    "for sent in train_data['target']:\n",
    "    for word in nltk.word_tokenize(sent):\n",
    "        fdist_target[word.lower()] += 1"
   ]
  },
  {
   "cell_type": "code",
   "execution_count": 28,
   "id": "7dede5ce",
   "metadata": {},
   "outputs": [
    {
     "data": {
      "image/png": "[encoded data removed]",
      "text/plain": [
       "<Figure size 640x480 with 1 Axes>"
      ]
     },
     "metadata": {},
     "output_type": "display_data"
    },
    {
     "data": {
      "text/plain": [
       "<AxesSubplot:xlabel='Samples', ylabel='Counts'>"
      ]
     },
     "execution_count": 28,
     "metadata": {},
     "output_type": "execute_result"
    }
   ],
   "source": [
    "fdist_target.plot(20, c='#6b8e99')"
   ]
  },
  {
   "cell_type": "code",
   "execution_count": 17,
   "id": "47846445",
   "metadata": {},
   "outputs": [],
   "source": [
    "last_twenty_target = dict(fdist_target.most_common()[-20:])"
   ]
  },
  {
   "cell_type": "code",
   "execution_count": 18,
   "id": "9d35c68b",
   "metadata": {},
   "outputs": [
    {
     "data": {
      "text/plain": [
       "{'self-aggrandising': 1,\n",
       " 'costume': 1,\n",
       " 'fortressed': 1,\n",
       " 'beguile': 1,\n",
       " '1776': 1,\n",
       " 'mini-constitution': 1,\n",
       " 'russia-european': 1,\n",
       " 'khodorkovski': 1,\n",
       " 'khordorkovsky': 1,\n",
       " 'jaunts': 1,\n",
       " 'judoka': 1,\n",
       " 'russophobic': 1,\n",
       " 'no-less-pragmatic': 1,\n",
       " 'near-abroad': 1,\n",
       " 'tokaji': 1,\n",
       " 'bolshevik-communist': 1,\n",
       " 'hertzen': 1,\n",
       " 'bukovski': 1,\n",
       " 'import-related': 1,\n",
       " 'theodosius': 1}"
      ]
     },
     "execution_count": 18,
     "metadata": {},
     "output_type": "execute_result"
    }
   ],
   "source": [
    "last_twenty_target"
   ]
  }
 ],
 "metadata": {
  "kernelspec": {
   "display_name": "Python 3 (ipykernel)",
   "language": "python",
   "name": "python3"
  },
  "language_info": {
   "codemirror_mode": {
    "name": "ipython",
    "version": 3
   },
   "file_extension": ".py",
   "mimetype": "text/x-python",
   "name": "python",
   "nbconvert_exporter": "python",
   "pygments_lexer": "ipython3",
   "version": "3.10.8"
  }
 },
 "nbformat": 4,
 "nbformat_minor": 5
}
